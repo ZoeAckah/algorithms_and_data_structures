{
 "cells": [
  {
   "cell_type": "markdown",
   "metadata": {},
   "source": [
    "# Coding Problems\n",
    "\n",
    "## Objective\n",
    "\n",
    "This assignment aims to demonstrate how to study a data structures or algorithms question in depth to prepare for an industry coding interview. Leetcode is a popular coding practice site that many use to practice for technical interviews. Like behavioral interviews, it's important to practice and keep your skills sharp.\n",
    "\n",
    "## Group Size\n",
    "\n",
    "Please complete this individually.\n",
    "\n",
    "## Parts:\n",
    "- Part 1: Figure out the problem you have been assigned, and understand the problem\n",
    "- Part 2: Answer the questions about your assigned problem (including solving it)\n",
    "\n",
    "## Part 1:\n",
    "\n",
    "_*You will be assigned one of three problems based of your first name. Enter your first name, in all lower case, execute the code below, and that will tell you your assigned problem. Include the output as part of your submission (do not clear the output). The problems are based-off problems from Leetcode.*_\n"
   ]
  },
  {
   "cell_type": "code",
   "execution_count": 8,
   "metadata": {},
   "outputs": [
    {
     "name": "stdout",
     "output_type": "stream",
     "text": [
      "2\n"
     ]
    }
   ],
   "source": [
    "import hashlib\n",
    "\n",
    "def hash_to_range(input_string: str) -> int:\n",
    "     hash_object = hashlib.sha256(input_string.encode())\n",
    "     hash_int = int(hash_object.hexdigest(), 16)\n",
    "     return (hash_int % 3) + 1\n",
    "input_string = \"zoe\"\n",
    "result = hash_to_range(input_string)\n",
    "print(result)\n"
   ]
  },
  {
   "cell_type": "markdown",
   "metadata": {},
   "source": [
    "## Question One: First Duplicate in List\n",
    "**Description**  \n",
    "Given a list of integers, return the **first value that appears more than once**. If there are multiple duplicates, return the one that appears **first** in the list. If no duplicate exists, return `-1`.\n",
    "\n",
    "**Examples**\n",
    "```python\n",
    "Input: nums = [3, 1, 4, 2, 5, 1, 6]\n",
    "Output: 1\n",
    "```\n",
    "```python\n",
    "Input: nums = [7, 8, 9, 10]\n",
    "Output: -1\n",
    "```\n",
    "```python\n",
    "Input: nums = [4, 5, 6, 4, 6]\n",
    "Output: 4\n",
    "```\n",
    "\n",
    "**Question 1 Starter Code**"
   ]
  },
  {
   "cell_type": "code",
   "execution_count": 7,
   "metadata": {},
   "outputs": [],
   "source": [
    "from typing import List\n",
    "\n",
    "def first_duplicate(nums: List[int]) -> int:\n",
    "    # TODO\n",
    "    pass"
   ]
  },
  {
   "cell_type": "markdown",
   "metadata": {},
   "source": [
    "## Question Two: Valid Bracket Sequence\n",
    "**Description**  \n",
    "Given a string containing only the characters `'('`, `')'`, `'{'`, `'}'`, `'['`, and `']'`, determine if the input string is a **valid bracket sequence**.  \n",
    "A string is valid if:\n",
    "- Open brackets are closed by the same type of brackets, and\n",
    "- Open brackets are closed in the correct order.\n",
    "\n",
    "**Examples**\n",
    "```python\n",
    "Input: s = \"([]{})\"\n",
    "Output: True\n",
    "```\n",
    "```python\n",
    "Input: s = \"([)]\"\n",
    "Output: False\n",
    "```\n",
    "```python\n",
    "Input: s = \"()[]{}\"\n",
    "Output: True\n",
    "```\n",
    "```python\n",
    "Input: s = \"[{]}\"\n",
    "Output: False\n",
    "```\n",
    "\n",
    "**Question 2 Starter Code**"
   ]
  },
  {
   "cell_type": "code",
   "execution_count": 33,
   "metadata": {},
   "outputs": [
    {
     "data": {
      "text/plain": [
       "False"
      ]
     },
     "execution_count": 33,
     "metadata": {},
     "output_type": "execute_result"
    }
   ],
   "source": [
    "s = \"{[(]}\"  \n",
    "open_brackets = [\"(\", \"[\", \"{\"]\n",
    "close_brackets = [\")\", \"]\", \"}\"]\n",
    "\n",
    "def is_valid_brackets(s: str) -> bool:\n",
    "    if len(s) % 2 != 0:\n",
    "        return False\n",
    "    elif s[0] in close_brackets:\n",
    "        return False\n",
    "    \n",
    "    bracket_stack = []\n",
    "\n",
    "    for bracket in s:\n",
    "        if bracket in open_brackets:\n",
    "            bracket_stack.append(bracket)\n",
    "        elif bracket in close_brackets:\n",
    "            if not bracket_stack:\n",
    "                return False\n",
    "            elif close_brackets.index(bracket) == open_brackets.index(bracket_stack[-1]):\n",
    "                bracket_stack.pop()\n",
    "            else:\n",
    "                return False\n",
    "    \n",
    "    if len(bracket_stack) == 0:\n",
    "            return True\n",
    "    else:\n",
    "         return False\n",
    "                     \n",
    "\n",
    "is_valid_brackets(s)\n"
   ]
  },
  {
   "cell_type": "markdown",
   "metadata": {},
   "source": [
    "## Question Three: Move All Zeros to End\n",
    "**Description**  \n",
    "Given a list of integers, move all zeros to the end while maintaining the relative order of the non-zero elements. \n",
    "\n",
    "**Examples**\n",
    "```python\n",
    "Input: nums = [0, 1, 0, 3, 12]\n",
    "Output: [1, 3, 12, 0, 0]\n",
    "```\n",
    "```python\n",
    "Input: nums = [4, 0, 5, 0, 0, 6]\n",
    "Output: [4, 5, 6, 0, 0, 0]\n",
    "```\n"
   ]
  },
  {
   "cell_type": "code",
   "execution_count": null,
   "metadata": {},
   "outputs": [],
   "source": [
    "from typing import List\n",
    "\n",
    "def move_zeros_to_end(nums: List[int]) -> List[int]:\n",
    "    # TODO\n",
    "    pass"
   ]
  },
  {
   "cell_type": "markdown",
   "metadata": {},
   "source": [
    "\n",
    "## Part 2:\n",
    "\n",
    "-   Paraphrase the problem in your own words\n"
   ]
  },
  {
   "cell_type": "markdown",
   "metadata": {},
   "source": [
    "There are several problems. First, how can you destinguish the order of the open and closed brackets to the fuction can tell what is correct and what isn't. Next, what about patterns like this ({[]}) where there are correctly paired nested brackets that are not next to each other, or patterns like this []{}] where the beginning is correct but end isn't? I had some trouble with the indentation of the for loop - if it is wrong you get false TRUE values. "
   ]
  },
  {
   "cell_type": "markdown",
   "metadata": {},
   "source": [
    "- In this .ipynb file, there are examples that illustrate how the code should work (the examples provided above). Create 2 new examples for the question you have been assigned, that demonstrate you understand the problem. For question 1 and 2, you don't need to create the tree demonstration, just the input and output.\n"
   ]
  },
  {
   "cell_type": "code",
   "execution_count": null,
   "metadata": {},
   "outputs": [],
   "source": [
    "#This question is really not written clearly. You mean you want me to use the examples above and run my code with them?. \n",
    "# Do you mean this?\n",
    "s = \")[]([\" \n",
    "s = \"][}{}{[{}[)(]{}{{))))))){}}}[)[}]])]]}]\""
   ]
  },
  {
   "cell_type": "markdown",
   "metadata": {},
   "source": [
    "\n",
    "-   Code the solution to your assigned problem in Python (code chunk). Note: each problem can be solved more simply if you use an abstract data type that is suitable for that problem. Using that try to find the best time and space complexity solution!\n"
   ]
  },
  {
   "cell_type": "code",
   "execution_count": 36,
   "metadata": {},
   "outputs": [
    {
     "data": {
      "text/plain": [
       "True"
      ]
     },
     "execution_count": 36,
     "metadata": {},
     "output_type": "execute_result"
    }
   ],
   "source": [
    "s = \"({[]})\"\n",
    "open_brackets = [\"(\", \"[\", \"{\"]\n",
    "close_brackets = [\")\", \"]\", \"}\"]\n",
    "\n",
    "def is_valid_brackets(s: str) -> bool:\n",
    "    if len(s) % 2 != 0:\n",
    "        return False\n",
    "    elif s[0] in close_brackets:\n",
    "        return False\n",
    "    \n",
    "    bracket_stack = []\n",
    "\n",
    "    for bracket in s:\n",
    "        if bracket in open_brackets:\n",
    "            bracket_stack.append(bracket)\n",
    "        elif bracket in close_brackets:\n",
    "            if not bracket_stack:\n",
    "                return False\n",
    "            elif close_brackets.index(bracket) == open_brackets.index(bracket_stack[-1]):\n",
    "                bracket_stack.pop()\n",
    "            else:\n",
    "                return False\n",
    "    \n",
    "    if len(bracket_stack) == 0:\n",
    "            return True\n",
    "    else:\n",
    "         return False\n",
    "                     \n",
    "\n",
    "is_valid_brackets(s)\n"
   ]
  },
  {
   "cell_type": "markdown",
   "metadata": {},
   "source": [
    "#Explain how your solution works.\n",
    "\n",
    "The solution that made sense to me was to use stack data structure.  The order of the call stack and a list matched the closed brackets with the open ones inside the list so that the open brackets stay in the list until they are closed and 'popped off' the stack. It got a lot easier after I sorted out the edge cases (no odd len of s, no closed bracket in s[0]). The next idea was to make two lists, onen of open and one of closed brackets where they were 'paired' by index.\n",
    "\n",
    "open_brackets = [\"(\", \"[\", \"{\"]\n",
    "close_brackets = [\")\", \"]\", \"}\"]\n",
    "\n",
    "This is how you can pair up the bracket types by index. Open brackets are added to a stack called bracket_stack, closed brackets are compared by index number to the last thing added to bracket_stack and if they match 'pop', they are removed from the list. If by the end of s there is anything left in bracket_stack then you know there is a mismatch so you get FALSE returned. If everything in the list is paired up you get TRUE returned.\n"
   ]
  },
  {
   "cell_type": "markdown",
   "metadata": {},
   "source": [
    "\n",
    "-   Explain the problem’s time and space complexity\n"
   ]
  },
  {
   "cell_type": "markdown",
   "metadata": {},
   "source": [
    "The time complexity is technically 0(n) because there is some looping through all of s, but the edge cases are handled in constant time as are the indexing of open and closed brackets, appending the list. The bracket_stack uses space but open and closed brackets use constant space. Still it is 0(n) because you have to hold onto everything on the list and if nothing pops off and you have a million potential pairs of brackets, well, then you stuck with some space complexity of O(n) code. "
   ]
  },
  {
   "cell_type": "markdown",
   "metadata": {},
   "source": [
    "\n",
    "-   Explain the thinking to an alternative solution (no coding required, but a classmate reading this should be able to code it up based off your text)\n"
   ]
  },
  {
   "cell_type": "markdown",
   "metadata": {},
   "source": [
    "# Your answer here \n",
    "It is possible to make this a recursive function. You can use the same edge cases and name the open and closed brackets in two groups. You need to keep track of the nested brackets. "
   ]
  },
  {
   "cell_type": "markdown",
   "metadata": {},
   "source": [
    "## Evaluation Criteria\n",
    "\n",
    "-   Problem is accurately stated\n",
    "\n",
    "-   Two examples are correct and easily understandable\n",
    "\n",
    "-   Correctness, time, and space complexity of the coding solution\n",
    "\n",
    "-   Clarity in explaining why the solution works, its time and space complexity\n",
    "\n",
    "-   Clarity in the proposal to the alternative solution"
   ]
  },
  {
   "cell_type": "markdown",
   "metadata": {},
   "source": [
    "## Submission Information\n",
    "\n",
    "🚨 **Please review our [Assignment Submission Guide](https://github.com/UofT-DSI/onboarding/blob/main/onboarding_documents/submissions.md)** 🚨 for detailed instructions on how to format, branch, and submit your work. Following these guidelines is crucial for your submissions to be evaluated correctly.\n",
    "\n",
    "### Submission Parameters:\n",
    "* Submission Due Date: `HH:MM AM/PM - DD/MM/YYYY`\n",
    "* The branch name for your repo should be: `assignment-1`\n",
    "* What to submit for this assignment:\n",
    "    * This Jupyter Notebook (assignment_1.ipynb) should be populated and should be the only change in your pull request.\n",
    "* What the pull request link should look like for this assignment: `https://github.com/<your_github_username>/algorithms_and_data_structures/pull/<pr_id>`\n",
    "    * Open a private window in your browser. Copy and paste the link to your pull request into the address bar. Make sure you can see your pull request properly. This helps the technical facilitator and learning support staff review your submission easily.\n",
    "\n",
    "Checklist:\n",
    "- [ ] Create a branch called `assignment-1`.\n",
    "- [ ] Ensure that the repository is public.\n",
    "- [ ] Review [the PR description guidelines](https://github.com/UofT-DSI/onboarding/blob/main/onboarding_documents/submissions.md#guidelines-for-pull-request-descriptions) and adhere to them.\n",
    "- [ ] Verify that the link is accessible in a private browser window.\n",
    "\n",
    "If you encounter any difficulties or have questions, please don't hesitate to reach out to our team via our Slack at `#cohort-3-help`. Our Technical Facilitators and Learning Support staff are here to help you navigate any challenges."
   ]
  }
 ],
 "metadata": {
  "kernelspec": {
   "display_name": "dsi_participant",
   "language": "python",
   "name": "python3"
  },
  "language_info": {
   "codemirror_mode": {
    "name": "ipython",
    "version": 3
   },
   "file_extension": ".py",
   "mimetype": "text/x-python",
   "name": "python",
   "nbconvert_exporter": "python",
   "pygments_lexer": "ipython3",
   "version": "3.9.7"
  }
 },
 "nbformat": 4,
 "nbformat_minor": 4
}
