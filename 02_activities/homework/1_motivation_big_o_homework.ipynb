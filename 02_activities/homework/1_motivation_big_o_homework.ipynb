{
  "cells": [
    {
      "cell_type": "markdown",
      "id": "79078d67-1cad-401a-81b3-4d4c6b9548f3",
      "metadata": {},
      "source": [
        "# 1: Motivation and Big-O\n",
        "\n",
        "-   Cormen: Chapter 1 exercises\n",
        "\n",
        "    -   1.2-1, 1.2-2, 1.2-3\n",
        "\n",
        "-   Bhargava: Chapter 1 exercises\n",
        "\n",
        "    -   1.3 to 1.5\n",
        "\n",
        "-   Additional (for the mathematically inclined)\n",
        "\n",
        "    -   In CS, log is usually base 2, but a strong distinction is not\n",
        "        made because *logs of different bases only differ by a constant\n",
        "        factor* and constants are dropped in Big-O. Show this is true\n",
        "\n",
        "    -   Show that exponents of different bases **do not** differ by a\n",
        "        constant factor\n"
      ]
    },
    {
      "cell_type": "code",
      "execution_count": 26,
      "id": "4b64abc2",
      "metadata": {},
      "outputs": [],
      "source": [
        "# Your code here\n",
        "\n",
        "\n",
        "\n",
        "x0, x1,x2 = 1., 2., 3.\n",
        "bias, w1, w2, =  0.1, 0.3, 0.5\n",
        "\n",
        "x= [x0, x1, x2]\n",
        "w = [bias, w1, w2]\n",
        "\n"
      ]
    },
    {
      "cell_type": "code",
      "execution_count": 27,
      "id": "c1030abb",
      "metadata": {},
      "outputs": [
        {
          "name": "stdout",
          "output_type": "stream",
          "text": [
            "2.2\n"
          ]
        }
      ],
      "source": [
        "z = 0.\n",
        "for i in range(len(x)):\n",
        "    z += x[i] * w[i]\n",
        "\n",
        "print(z)"
      ]
    },
    {
      "cell_type": "code",
      "execution_count": 28,
      "id": "68109919",
      "metadata": {},
      "outputs": [
        {
          "name": "stdout",
          "output_type": "stream",
          "text": [
            "2.2\n"
          ]
        }
      ],
      "source": [
        "z = sum(x_i * w_i for x_i, w_i in zip(x, w))\n",
        "print(z)"
      ]
    },
    {
      "cell_type": "code",
      "execution_count": 29,
      "id": "a9abca62",
      "metadata": {},
      "outputs": [
        {
          "name": "stdout",
          "output_type": "stream",
          "text": [
            "0.35\n",
            "2.2\n"
          ]
        }
      ],
      "source": [
        "import numpy as np\n",
        "\n",
        "x_vec, w_vec = np.array(x), np.array(w)\n",
        "z = (w_vec.transpose()).dot(w_vec)\n",
        "print(z)\n",
        "\n",
        "z = x_vec.dot(w_vec)\n",
        "print(z)\n",
        "\n"
      ]
    },
    {
      "cell_type": "code",
      "execution_count": 35,
      "id": "1a1c0c70",
      "metadata": {},
      "outputs": [],
      "source": [
        "def vectorized_dot_product(x, w):\n",
        "    return x_vec.dot(w_vec)\n",
        "\n"
      ]
    },
    {
      "cell_type": "code",
      "execution_count": 1,
      "id": "2c5e4962",
      "metadata": {},
      "outputs": [
        {
          "ename": "ModuleNotFoundError",
          "evalue": "No module named 'algorithms'",
          "output_type": "error",
          "traceback": [
            "\u001b[0;31m---------------------------------------------------------------------------\u001b[0m",
            "\u001b[0;31mModuleNotFoundError\u001b[0m                       Traceback (most recent call last)",
            "Cell \u001b[0;32mIn[1], line 1\u001b[0m\n\u001b[0;32m----> 1\u001b[0m \u001b[38;5;28;01mfrom\u001b[39;00m\u001b[38;5;250m \u001b[39m\u001b[38;5;21;01malgorithms\u001b[39;00m\u001b[38;5;21;01m.\u001b[39;00m\u001b[38;5;21;01msorting\u001b[39;00m\u001b[38;5;250m \u001b[39m\u001b[38;5;28;01mimport\u001b[39;00m insertion_sort\n\u001b[1;32m      2\u001b[0m arr \u001b[38;5;241m=\u001b[39m [\u001b[38;5;241m3\u001b[39m, \u001b[38;5;241m1\u001b[39m, \u001b[38;5;241m4\u001b[39m, \u001b[38;5;241m1\u001b[39m, \u001b[38;5;241m5\u001b[39m, \u001b[38;5;241m9\u001b[39m, \u001b[38;5;241m2\u001b[39m, \u001b[38;5;241m6\u001b[39m]\n\u001b[1;32m      3\u001b[0m sorted_arr \u001b[38;5;241m=\u001b[39m insertion_sort(arr)\n",
            "\u001b[0;31mModuleNotFoundError\u001b[0m: No module named 'algorithms'"
          ]
        }
      ],
      "source": [
        "\n",
        "from algorithms.sorting import insertion_sort\n",
        "arr = [3, 1, 4, 1, 5, 9, 2, 6]\n",
        "sorted_arr = insertion_sort(arr)"
      ]
    }
  ],
  "metadata": {
    "kernelspec": {
      "display_name": "dsi_participant",
      "language": "python",
      "name": "python3"
    },
    "language_info": {
      "codemirror_mode": {
        "name": "ipython",
        "version": 3
      },
      "file_extension": ".py",
      "mimetype": "text/x-python",
      "name": "python",
      "nbconvert_exporter": "python",
      "pygments_lexer": "ipython3",
      "version": "3.9.7"
    }
  },
  "nbformat": 4,
  "nbformat_minor": 5
}
